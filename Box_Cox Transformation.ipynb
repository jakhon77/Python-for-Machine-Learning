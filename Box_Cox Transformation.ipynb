{
 "cells": [
  {
   "cell_type": "code",
   "execution_count": 154,
   "metadata": {},
   "outputs": [],
   "source": [
    "import numpy as np\n",
    "from sklearn import preprocessing"
   ]
  },
  {
   "cell_type": "markdown",
   "metadata": {},
   "source": [
    "# 1. Manual calculation"
   ]
  },
  {
   "cell_type": "code",
   "execution_count": 171,
   "metadata": {},
   "outputs": [
    {
     "data": {
      "text/plain": [
       "array([[ 26.],\n",
       "       [ 17.],\n",
       "       [ 13.],\n",
       "       [ 38.],\n",
       "       [ 26.],\n",
       "       [ 20.],\n",
       "       [ 15.],\n",
       "       [ 50.],\n",
       "       [ 37.],\n",
       "       [ 27.],\n",
       "       [ 22.],\n",
       "       [ 76.],\n",
       "       [ 53.],\n",
       "       [ 37.],\n",
       "       [ 27.],\n",
       "       [108.],\n",
       "       [ 83.],\n",
       "       [ 57.],\n",
       "       [ 41.],\n",
       "       [157.],\n",
       "       [124.],\n",
       "       [ 87.],\n",
       "       [ 63.]])"
      ]
     },
     "execution_count": 171,
     "metadata": {},
     "output_type": "execute_result"
    }
   ],
   "source": [
    "# This is original y values\n",
    "\n",
    "y = np.array([26,17,13,38,26,20,15,50,37,27,22,76,53,37,27,108,83,57,41,157,124,87,63], dtype = float)\n",
    "y = y.reshape(-1,1)\n",
    "y"
   ]
  },
  {
   "cell_type": "code",
   "execution_count": 172,
   "metadata": {},
   "outputs": [
    {
     "data": {
      "text/plain": [
       "<matplotlib.axes._subplots.AxesSubplot at 0x1dc68e93310>"
      ]
     },
     "execution_count": 172,
     "metadata": {},
     "output_type": "execute_result"
    },
    {
     "data": {
      "image/png": "[encoded data removed]",
      "text/plain": [
       "<Figure size 432x288 with 1 Axes>"
      ]
     },
     "metadata": {
      "needs_background": "light"
     },
     "output_type": "display_data"
    }
   ],
   "source": [
    "# As we can see y is not normally distributed\n",
    "\n",
    "import seaborn as sns\n",
    "\n",
    "sns.distplot(y, kde = False)"
   ]
  },
  {
   "cell_type": "code",
   "execution_count": 173,
   "metadata": {},
   "outputs": [],
   "source": [
    "# this are the x1 and x2 features\n",
    "X = np.array([[0,0],\n",
    "              [10,0],\n",
    "              [20,0],\n",
    "              [0,12],\n",
    "              [10,12],\n",
    "              [20,12],\n",
    "              [30,12],\n",
    "              [0,24],\n",
    "              [10,24],\n",
    "              [20,24],\n",
    "              [30,24],\n",
    "              [0,36],\n",
    "              [10,36],\n",
    "              [20,36],\n",
    "              [30,36],\n",
    "              [0,48],\n",
    "              [10,48],\n",
    "              [20,48],\n",
    "              [30,48],\n",
    "              [0,60],\n",
    "              [10,60],\n",
    "              [20,60],\n",
    "              [30,60]])\n"
   ]
  },
  {
   "cell_type": "code",
   "execution_count": 174,
   "metadata": {},
   "outputs": [
    {
     "data": {
      "text/plain": [
       "array([41.54611088])"
      ]
     },
     "execution_count": 174,
     "metadata": {},
     "output_type": "execute_result"
    }
   ],
   "source": [
    "# let's find geometric mean of y\n",
    "\n",
    "from scipy.stats import gmean\n",
    "y_gmean = gmean(y)\n",
    "y_gmean"
   ]
  },
  {
   "cell_type": "code",
   "execution_count": 175,
   "metadata": {},
   "outputs": [
    {
     "data": {
      "text/plain": [
       "array([-1.        , -0.89473684, -0.78947368, -0.68421053, -0.57894737,\n",
       "       -0.47368421, -0.36842105, -0.26315789, -0.15789474, -0.05263158,\n",
       "        0.05263158,  0.15789474,  0.26315789,  0.36842105,  0.47368421,\n",
       "        0.57894737,  0.68421053,  0.78947368,  0.89473684,  1.        ,\n",
       "        0.        ])"
      ]
     },
     "execution_count": 175,
     "metadata": {},
     "output_type": "execute_result"
    }
   ],
   "source": [
    "# lmbda is the power of y (y^lmbda)\n",
    "lmbda = np.hstack((np.linspace(-1,1,20), np.array([0])))\n",
    "lmbda "
   ]
  },
  {
   "cell_type": "markdown",
   "metadata": {},
   "source": [
    "#### this equation is applied when lambda != 0.\n",
    "#### $y_transformed = (y**(lmbda)-1) / (lmbda*y_gmean**(lmbda-1))$\n",
    "\n",
    "#### this equation is applied when lambda = 0.\n",
    "#### $ y_transformed = y_gmean*np.log(y)$\n"
   ]
  },
  {
   "cell_type": "code",
   "execution_count": 176,
   "metadata": {},
   "outputs": [
    {
     "data": {
      "text/plain": [
       "(23, 21)"
      ]
     },
     "execution_count": 176,
     "metadata": {},
     "output_type": "execute_result"
    }
   ],
   "source": [
    "# create empty array to hold each set of transformed y values\n",
    "\n",
    "y_all_trans = np.zeros(shape = (y.shape[0],lmbda.shape[0]))\n",
    "y_all_trans.shape"
   ]
  },
  {
   "cell_type": "code",
   "execution_count": 177,
   "metadata": {},
   "outputs": [
    {
     "data": {
      "text/plain": [
       "array([135.36124003, 117.70899574, 106.56367041, 151.12755793,\n",
       "       135.36124003, 124.46102521, 112.50895393, 162.52934155,\n",
       "       150.01959598, 136.92920388, 128.4207925 , 179.92512755,\n",
       "       164.95018807, 150.01959598, 136.92920388, 194.52434312,\n",
       "       183.58564185, 167.97305627, 154.28447685, 210.06734887,\n",
       "       200.2639524 , 185.54111388, 172.13113474])"
      ]
     },
     "execution_count": 177,
     "metadata": {},
     "output_type": "execute_result"
    }
   ],
   "source": [
    "# Here, I will manually transform y using box-cox method for each lambda value \n",
    "# and save each set of new y values in y_all_trans array\n",
    "\n",
    "for index,value in enumerate(lmbda):\n",
    "    if value==0:\n",
    "        y_trans = y_gmean*np.log(y)\n",
    "    else:\n",
    "        y_trans = (y**(value)-1) / (value*y_gmean**(value-1))\n",
    "    for j in np.arange(y_all_trans.shape[0]):\n",
    "        y_all_trans[j,index] = y_trans[j]\n",
    "y_all_trans[:,-1]"
   ]
  },
  {
   "cell_type": "code",
   "execution_count": 178,
   "metadata": {},
   "outputs": [
    {
     "data": {
      "text/plain": [
       "83.16089542379224"
      ]
     },
     "execution_count": 178,
     "metadata": {},
     "output_type": "execute_result"
    }
   ],
   "source": [
    "# Then, ols will be fitted to each set of transformed y values\n",
    "from sklearn.linear_model import LinearRegression\n",
    "\n",
    "# empty array to hold residual sum of square values\n",
    "sse_all = np.zeros(21)\n",
    "\n",
    "ols = LinearRegression()\n",
    "for i in np.arange(y_all_trans.shape[1]):\n",
    "    ols.fit(X,y_all_trans[:,i])\n",
    "    sse = np.sum((ols.predict(X)-y_all_trans[:,i])**2)\n",
    "    sse_all[i]=sse\n",
    "\n",
    "# the best value of lmbda is when sse is minimized\n",
    "sse_min = np.min(sse_all)\n",
    "sse_min"
   ]
  },
  {
   "cell_type": "code",
   "execution_count": 179,
   "metadata": {},
   "outputs": [
    {
     "data": {
      "text/plain": [
       "Text(0, 0.5, 'SSE(lambda,y)')"
      ]
     },
     "execution_count": 179,
     "metadata": {},
     "output_type": "execute_result"
    },
    {
     "data": {
      "image/png": "[encoded data removed]",
      "text/plain": [
       "<Figure size 864x576 with 1 Axes>"
      ]
     },
     "metadata": {
      "needs_background": "light"
     },
     "output_type": "display_data"
    }
   ],
   "source": [
    "# Here, we visualize the relationship between residual sum of squares and lambda values \n",
    "\n",
    "import matplotlib.pyplot as plt\n",
    "\n",
    "plt.figure(figsize = (12,8))\n",
    "plt.xlim(-1.2,1.2)\n",
    "plt.scatter(lmbda,sse_all)\n",
    "plt.hlines(np.min(sse_all), xmin = -1.2, xmax = 1.2,linestyles='dashed', color='red' )\n",
    "\n",
    "plt.title('Scatter plot of SSE(lambda,y) versus Lambda')\n",
    "plt.xlabel('lambda values')\n",
    "plt.ylabel('SSE(lambda,y)')"
   ]
  },
  {
   "cell_type": "code",
   "execution_count": 180,
   "metadata": {},
   "outputs": [
    {
     "data": {
      "text/plain": [
       "<matplotlib.axes._subplots.AxesSubplot at 0x1dc6914b310>"
      ]
     },
     "execution_count": 180,
     "metadata": {},
     "output_type": "execute_result"
    },
    {
     "data": {
      "image/png": "[encoded data removed]",
      "text/plain": [
       "<Figure size 432x288 with 1 Axes>"
      ]
     },
     "metadata": {
      "needs_background": "light"
     },
     "output_type": "display_data"
    }
   ],
   "source": [
    "# After transformation, we can see that the distribution of y is close to the Gaussian.\n",
    "best_lmbda_index = np.where(sse_all == np.min(sse_all))\n",
    "\n",
    "sns.distplot(y_all_trans[:,best_lmbda_index])"
   ]
  },
  {
   "cell_type": "code",
   "execution_count": 181,
   "metadata": {},
   "outputs": [
    {
     "name": "stdout",
     "output_type": "stream",
     "text": [
      "[-0.05263158]\n"
     ]
    }
   ],
   "source": [
    "best_lmbda = lmbda[best_lmbda_index]\n",
    "print(best_lmbda)"
   ]
  },
  {
   "cell_type": "markdown",
   "metadata": {},
   "source": [
    "# 2. Using Sklearn "
   ]
  },
  {
   "cell_type": "code",
   "execution_count": 182,
   "metadata": {},
   "outputs": [
    {
     "data": {
      "text/plain": [
       "array([-0.13428651])"
      ]
     },
     "execution_count": 182,
     "metadata": {},
     "output_type": "execute_result"
    }
   ],
   "source": [
    "from sklearn.preprocessing import PowerTransformer\n",
    "\n",
    "pt = PowerTransformer(method = 'box-cox', standardize = False)\n",
    "pt.fit(y)\n",
    "pt.lambdas_"
   ]
  },
  {
   "cell_type": "code",
   "execution_count": 183,
   "metadata": {},
   "outputs": [
    {
     "data": {
      "text/plain": [
       "array([[2.63886048],\n",
       "       [2.35656352],\n",
       "       [2.16985001],\n",
       "       [2.87773464],\n",
       "       [2.63886048],\n",
       "       [2.46644913],\n",
       "       [2.2702858 ],\n",
       "       [3.04305289],\n",
       "       [2.86134276],\n",
       "       [2.66316538],\n",
       "       [2.52978537],\n",
       "       [3.28382855],\n",
       "       [3.07737628],\n",
       "       [2.86134276],\n",
       "       [2.66316538],\n",
       "       [3.47570638],\n",
       "       [3.33279258],\n",
       "       [3.11985994],\n",
       "       [2.92411943],\n",
       "       [3.67027813],\n",
       "       [3.54869722],\n",
       "       [3.35871307],\n",
       "       [3.17762388]])"
      ]
     },
     "execution_count": 183,
     "metadata": {},
     "output_type": "execute_result"
    }
   ],
   "source": [
    "y_tr = pt.transform(y)\n",
    "y_tr"
   ]
  },
  {
   "cell_type": "code",
   "execution_count": 184,
   "metadata": {},
   "outputs": [
    {
     "data": {
      "text/plain": [
       "<matplotlib.axes._subplots.AxesSubplot at 0x1dc68f81c40>"
      ]
     },
     "execution_count": 184,
     "metadata": {},
     "output_type": "execute_result"
    },
    {
     "data": {
      "image/png": "[encoded data removed]",
      "text/plain": [
       "<Figure size 432x288 with 1 Axes>"
      ]
     },
     "metadata": {
      "needs_background": "light"
     },
     "output_type": "display_data"
    }
   ],
   "source": [
    "sns.distplot(y_tr)"
   ]
  },
  {
   "cell_type": "code",
   "execution_count": 185,
   "metadata": {},
   "outputs": [
    {
     "data": {
      "text/plain": [
       "0.020907258154053122"
      ]
     },
     "execution_count": 185,
     "metadata": {},
     "output_type": "execute_result"
    }
   ],
   "source": [
    "ols_ = LinearRegression()\n",
    "ols_.fit(X,y_tr)\n",
    "y_pr = ols_.predict(X)\n",
    "y_pr\n",
    "\n",
    "sse = np.sum((y_pr-y_tr)**2)\n",
    "sse"
   ]
  }
 ],
 "metadata": {
  "kernelspec": {
   "display_name": "Python 3",
   "language": "python",
   "name": "python3"
  },
  "language_info": {
   "codemirror_mode": {
    "name": "ipython",
    "version": 3
   },
   "file_extension": ".py",
   "mimetype": "text/x-python",
   "name": "python",
   "nbconvert_exporter": "python",
   "pygments_lexer": "ipython3",
   "version": "3.8.3"
  }
 },
 "nbformat": 4,
 "nbformat_minor": 4
}
