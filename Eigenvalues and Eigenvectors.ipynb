{
 "cells": [
  {
   "cell_type": "code",
   "execution_count": 28,
   "metadata": {},
   "outputs": [],
   "source": [
    "import numpy as np\n",
    "from scipy.linalg import eig, inv"
   ]
  },
  {
   "cell_type": "markdown",
   "metadata": {},
   "source": [
    "### Eigendecomposition"
   ]
  },
  {
   "cell_type": "code",
   "execution_count": 21,
   "metadata": {},
   "outputs": [
    {
     "name": "stdout",
     "output_type": "stream",
     "text": [
      "[[1 2 3]\n",
      " [4 5 6]\n",
      " [7 8 9]]\n"
     ]
    }
   ],
   "source": [
    "A = np.array([[1,2,3],\n",
    "              [4,5,6],\n",
    "              [7,8,9]])\n",
    "print(A)"
   ]
  },
  {
   "cell_type": "code",
   "execution_count": 16,
   "metadata": {},
   "outputs": [],
   "source": [
    "# calculate eigen decomposition\n",
    "values,vectors = eig(A)"
   ]
  },
  {
   "cell_type": "code",
   "execution_count": 17,
   "metadata": {},
   "outputs": [
    {
     "data": {
      "text/plain": [
       "array([ 1.61168440e+01+0.j, -1.11684397e+00+0.j, -9.75918483e-16+0.j])"
      ]
     },
     "execution_count": 17,
     "metadata": {},
     "output_type": "execute_result"
    }
   ],
   "source": [
    "values"
   ]
  },
  {
   "cell_type": "code",
   "execution_count": 18,
   "metadata": {},
   "outputs": [
    {
     "data": {
      "text/plain": [
       "array([[-0.23197069, -0.78583024,  0.40824829],\n",
       "       [-0.52532209, -0.08675134, -0.81649658],\n",
       "       [-0.8186735 ,  0.61232756,  0.40824829]])"
      ]
     },
     "execution_count": 18,
     "metadata": {},
     "output_type": "execute_result"
    }
   ],
   "source": [
    "vectors"
   ]
  },
  {
   "cell_type": "markdown",
   "metadata": {},
   "source": [
    "### Confirm an eigenvector and eigenvalue"
   ]
  },
  {
   "cell_type": "code",
   "execution_count": 26,
   "metadata": {},
   "outputs": [
    {
     "name": "stdout",
     "output_type": "stream",
     "text": [
      "[ -3.73863537  -8.46653421 -13.19443305]\n",
      "[ -3.73863537+0.j  -8.46653421+0.j -13.19443305+0.j]\n"
     ]
    }
   ],
   "source": [
    "# Av = wv\n",
    "B = A.dot(vectors[:,0])\n",
    "print(B)\n",
    "C = values[0]*vectors[:,0]\n",
    "print(C)"
   ]
  },
  {
   "cell_type": "markdown",
   "metadata": {},
   "source": [
    "### Reconstract original matrix"
   ]
  },
  {
   "cell_type": "code",
   "execution_count": 33,
   "metadata": {},
   "outputs": [
    {
     "data": {
      "text/plain": [
       "array([[1., 2., 3.],\n",
       "       [4., 5., 6.],\n",
       "       [7., 8., 9.]])"
      ]
     },
     "execution_count": 33,
     "metadata": {},
     "output_type": "execute_result"
    }
   ],
   "source": [
    "# H = P*(lambda*I)*inv(P)\n",
    "P = vectors\n",
    "P_inv = inv(P)\n",
    "L = np.diag(values)\n",
    "\n",
    "H = P.dot(L).dot(P_inv)\n",
    "H.real"
   ]
  },
  {
   "cell_type": "markdown",
   "metadata": {},
   "source": [
    "An n×n matrix which is diagonalizable must have a set of n linearly independent eigenvectors -- the columns of the diagonalizing matrix are such a set.\n",
    "\n",
    "In general, if an n×n matrix has k distinct eigenvalues, then there may in general be anywhere between k and n linearly independent eigenvectors.\n",
    "\n",
    "For any of this, it doesn't matter whether or not the eigenvalues are non-zero.\n",
    "\n",
    "Correct, an n×n matrix which is diagonalizable must have a set of n linearly independent eigenvectors -- the columns of the diagonalizing matrix are such a set.\n",
    "\n",
    "In general, if an n×n matrix has k distinct eigenvalues, then there may in general be anywhere between k and n linearly independent eigenvectors.\n",
    "\n",
    "For any of this, it doesn't matter whether or not the eigenvalues are non-zero."
   ]
  }
 ],
 "metadata": {
  "kernelspec": {
   "display_name": "Python 3",
   "language": "python",
   "name": "python3"
  },
  "language_info": {
   "codemirror_mode": {
    "name": "ipython",
    "version": 3
   },
   "file_extension": ".py",
   "mimetype": "text/x-python",
   "name": "python",
   "nbconvert_exporter": "python",
   "pygments_lexer": "ipython3",
   "version": "3.8.3"
  }
 },
 "nbformat": 4,
 "nbformat_minor": 4
}
